{
 "cells": [
  {
   "cell_type": "code",
   "execution_count": 1,
   "metadata": {},
   "outputs": [],
   "source": [
    "!awk '{print $2, $3}' neg_pos-total.final | sed 's/ /,/g' | sed 's/\\n//g' > alldata.csv"
   ]
  },
  {
   "cell_type": "code",
   "execution_count": 141,
   "metadata": {},
   "outputs": [
    {
     "name": "stdout",
     "output_type": "stream",
     "text": [
      "1.1e-30,0\n",
      "1.2e-30,0\n",
      "1.3e-30,0\n",
      "6.7e-30,0\n",
      "6.7e-30,0\n",
      "8.9e-30,0\n",
      "1.2e-29,0\n",
      "1.4e-29,0\n",
      "1.5e-29,0\n",
      "1.9e-29,0\n"
     ]
    }
   ],
   "source": [
    "!head alldata.csv"
   ]
  },
  {
   "cell_type": "code",
   "execution_count": 2,
   "metadata": {},
   "outputs": [
    {
     "name": "stdout",
     "output_type": "stream",
     "text": [
      "344\n"
     ]
    }
   ],
   "source": [
    "!awk -F ',' '{if ($2 == 0) print $0}' alldata.csv | wc -l"
   ]
  },
  {
   "cell_type": "code",
   "execution_count": 79,
   "metadata": {
    "collapsed": false,
    "jupyter": {
     "outputs_hidden": false
    },
    "pycharm": {
     "is_executing": true,
     "name": "#%%\n"
    }
   },
   "outputs": [],
   "source": [
    "import seaborn as sn\n",
    "import numpy as np\n",
    "from matplotlib import pyplot as plt\n",
    "from matplotlib.colors import LogNorm\n",
    "from sklearn.metrics import confusion_matrix, matthews_corrcoef, accuracy_score\n",
    "import math \n",
    "\n",
    "sn.set()\n",
    "\n",
    "def mcc_acc_index(Y_true, evalues_list):\n",
    "    ACC_list = []\n",
    "    MCC_list = []\n",
    "    th = []\n",
    "    z = 0\n",
    "    for j in range(-10,1,1):\n",
    "        Y_predict = []\n",
    "        threshold = 10**j\n",
    "        for k in evalues_list:\n",
    "            if k < threshold:\n",
    "                c = 0\n",
    "            else:\n",
    "                c = 1\n",
    "            Y_predict.append(c)\n",
    "        y_predict = np.array(Y_predict)\n",
    "        \n",
    "        confusion_matrix(Y_true, y_predict)\n",
    "        th.append(threshold)\n",
    "        MCC_list.append([matthews_corrcoef(Y_true, y_predict),z])\n",
    "        ACC_list.append([accuracy_score(Y_true, y_predict),z])\n",
    "        z += 1 \n",
    "    print(MCC_list)   \n",
    "    max_mcc, index = max(MCC_list) \n",
    "    print(index)\n",
    "    print(th)\n",
    "    acc = ACC_list[index][0]\n",
    "    return max_mcc, th[index], acc\n",
    "\n",
    "def get_cfmx(threshold, evalue_list, y_true):\n",
    "    max_mcc_y = []\n",
    "\n",
    "    for k in evalue_list:\n",
    "        if k < threshold:\n",
    "            c = 0\n",
    "        else:\n",
    "            c = 1\n",
    "        max_mcc_y.append(c)\n",
    "    return max_mcc_y, confusion_matrix(y_true, max_mcc_y)\n",
    "\n",
    "def plot_cm(Y_true, Y_pred):\n",
    "    data = {'y_Actual':    Y_true,\n",
    "            'y_Predicted': Y_pred\n",
    "            }\n",
    "    df = pd.DataFrame(data, columns=['y_Actual','y_Predicted'])\n",
    "    cmx = pd.crosstab(df['y_Actual'], df['y_Predicted'], rownames=['Actual'], colnames=['Predicted'])\n",
    "    log_norm = LogNorm(vmin=df.min().min(), vmax=df.max().max())\n",
    "    sn.heatmap(cmx, annot=True, linewidths = 1, square = True, cmap = 'PuBu_r', robust = True, norm=LogNorm(), fmt = '.1f', annot_kws={'size':16})\n",
    "    plt.show()"
   ]
  },
  {
   "cell_type": "code",
   "execution_count": 4,
   "metadata": {},
   "outputs": [
    {
     "name": "stdout",
     "output_type": "stream",
     "text": [
      "344\n"
     ]
    }
   ],
   "source": [
    "!awk -F ',' '{if ($2 == 0) print $0}' alldata.csv | wc -l"
   ]
  },
  {
   "cell_type": "code",
   "execution_count": 45,
   "metadata": {},
   "outputs": [
    {
     "data": {
      "text/plain": [
       "(562116, 2)"
      ]
     },
     "execution_count": 45,
     "metadata": {},
     "output_type": "execute_result"
    }
   ],
   "source": [
    "import pandas as pd\n",
    "from pandas import read_csv\n",
    "\n",
    "f = 'alldata.csv'\n",
    "names = ['e-value', 'attribute']\n",
    "data = read_csv(f, names=names)\n",
    "\n",
    "data.shape"
   ]
  },
  {
   "cell_type": "code",
   "execution_count": 46,
   "metadata": {
    "collapsed": false,
    "jupyter": {
     "outputs_hidden": false
    },
    "pycharm": {
     "name": "#%%\n"
    }
   },
   "outputs": [],
   "source": [
    "def get_eval(x):\n",
    "    evalues = []\n",
    "    for i in x:\n",
    "        evalues.append(i)\n",
    "    return evalues"
   ]
  },
  {
   "cell_type": "code",
   "execution_count": 47,
   "metadata": {
    "collapsed": false,
    "jupyter": {
     "outputs_hidden": false
    },
    "pycharm": {
     "name": "#%%\n"
    }
   },
   "outputs": [
    {
     "name": "stdout",
     "output_type": "stream",
     "text": [
      "(562116,)\n",
      "(562116,)\n"
     ]
    }
   ],
   "source": [
    "Y_actual = data['attribute']\n",
    "x_eval = data['e-value']\n",
    "\n",
    "print(Y_actual.shape)\n",
    "print(x_eval.shape)"
   ]
  },
  {
   "cell_type": "code",
   "execution_count": null,
   "outputs": [],
   "source": [
    "from tabulate import tabulate\n",
    "max_mcc, th, acc = mcc_acc_index(Y_actual, get_eval(x_eval))\n",
    "max_pred_y, cm = get_cfmx(th, get_eval(x_eval), Y_actual)\n",
    "print(tabulate([['Threshold: ','MCC: ', 'ACC: ', 'ConfusionMx:'], [th, max_mcc, acc]], headers='firstrow', tablefmt='fancy_grid'))\n",
    "#print('Best performance on:','\\nThreshold: ',th,'\\nMCC: ', max_mcc,'\\nACC: ', acc,'\\nConfusionMx:')\n",
    "plot_cm(Y_actual, max_pred_y)"
   ],
   "metadata": {
    "collapsed": false,
    "pycharm": {
     "name": "#%%\n"
    }
   }
  },
  {
   "cell_type": "code",
   "execution_count": null,
   "outputs": [],
   "source": [
    "from sklearn.model_selection import StratifiedKFold\n",
    "\n",
    "X = data['e-value']\n",
    "y = data['attribute']\n",
    "\n",
    "skf = StratifiedKFold(n_splits=2, shuffle=True,random_state=2)\n",
    "skf.get_n_splits(X, y)\n",
    "\n",
    "for train_index, test_index in skf.split(X, y):\n",
    "    print(\"TRAIN:\", train_index, \"TEST:\", test_index)\n",
    "    X_train, X_test = X[train_index], X[test_index]\n",
    "    y_train, y_test = y[train_index], y[test_index]\n",
    "\n",
    "c=0\n",
    "for i in y_test:\n",
    "    if i == 0:\n",
    "        c += 1 \n",
    "print(c)\n",
    "\n",
    "max_mcc, th, acc = mcc_acc_index(y_train, get_eval(X_train))\n",
    "print(tabulate([['Trained Threshold ','MCC ', 'ACC '], [th, max_mcc, acc]], headers='firstrow', tablefmt='fancy_grid'),'\\nConfusionMx' )\n",
    "max_pred_ytrain, cm = get_cfmx(th, get_eval(X_train), y_train)\n",
    "plot_cm(y_train, max_pred_ytrain)\n",
    "print('BEST PERFORMANCE ON TESTING')\n",
    "max_pred_ytest, cm = get_cfmx(th, get_eval(X_test), y_test)\n",
    "print(tabulate([['Threshold ','MCC ', 'ACC '], [th, matthews_corrcoef(y_test, max_pred_ytest), accuracy_score(y_test, max_pred_ytest)]], headers='firstrow', tablefmt='fancy_grid'),'\\nConfusionMx' )\n",
    "#print('Best performance on testing:','\\nThreshold: ',th,'\\nMCC: ', matthews_corrcoef(y_test, max_pred_ytest),'\\nACC: ', accuracy_score(y_test, max_pred_ytest),'\\nConfusionMx:')\n",
    "plot_cm(y_test, max_pred_ytest)\n",
    "\n"
   ],
   "metadata": {
    "collapsed": false,
    "pycharm": {
     "name": "#%%\n"
    }
   }
  },
  {
   "cell_type": "code",
   "execution_count": 77,
   "metadata": {},
   "outputs": [
    {
     "name": "stdout",
     "output_type": "stream",
     "text": [
      "[[0.9838764533958095, 0], [0.9838764533958095, 1], [0.9883009687811888, 2], [0.9927058118065456, 3], [0.9927058118065456, 4], [0.9927058118065456, 5], [0.9956315737131413, 6], [0.99418248634843, 7], [0.994203519999512, 8], [0.9928064159444902, 9], [0.9843754925542852, 10], [0.9694606245614235, 11], [0.8211641070018736, 12], [0.3958599911758399, 13], [0.12346974754563322, 14], [0.0390420179558747, 15]]\n",
      "6\n",
      "[1e-15, 1e-14, 1e-13, 1e-12, 1e-11, 1e-10, 1e-09, 1e-08, 1e-07, 1e-06, 1e-05, 0.0001, 0.001, 0.01, 0.1, 1]\n",
      "╒═══════════════╤══════════╤══════════╕\n",
      "│   Threshold:  │    MCC:  │    ACC:  │\n",
      "╞═══════════════╪══════════╪══════════╡\n",
      "│         1e-09 │ 0.995632 │ 0.999995 │\n",
      "╘═══════════════╧══════════╧══════════╛\n"
     ]
    },
    {
     "data": {
      "image/png": "[encoded data removed]",
      "text/plain": [
       "<Figure size 432x288 with 2 Axes>"
      ]
     },
     "metadata": {},
     "output_type": "display_data"
    }
   ],
   "source": []
  },
  {
   "cell_type": "code",
   "execution_count": 80,
   "metadata": {
    "collapsed": false,
    "jupyter": {
     "outputs_hidden": false
    },
    "pycharm": {
     "name": "#%%\n"
    }
   },
   "outputs": [
    {
     "name": "stdout",
     "output_type": "stream",
     "text": [
      "TRAIN: [     1      4      6 ... 562110 562113 562115] TEST: [     0      2      3 ... 562111 562112 562114]\n",
      "TRAIN: [     0      2      3 ... 562111 562112 562114] TEST: [     1      4      6 ... 562110 562113 562115]\n",
      "172\n",
      "[[0.9883138936909739, 0], [0.99418248634843, 1], [0.991303177006321, 2], [0.9884487199565263, 3], [0.9885640142505367, 4], [0.9802397197502416, 5], [0.9694606245614235, 6], [0.8147925943967645, 7], [0.3999170701544296, 8], [0.12370408016205729, 9], [0.03907533530736914, 10]]\n",
      "1\n",
      "[1e-10, 1e-09, 1e-08, 1e-07, 1e-06, 1e-05, 0.0001, 0.001, 0.01, 0.1, 1]\n",
      "╒══════════════════════╤══════════╤══════════╕\n",
      "│   Trained Threshold  │     MCC  │     ACC  │\n",
      "╞══════════════════════╪══════════╪══════════╡\n",
      "│                1e-09 │ 0.994182 │ 0.999993 │\n",
      "╘══════════════════════╧══════════╧══════════╛ \n",
      "ConfusionMx\n"
     ]
    },
    {
     "data": {
      "image/png": "[encoded data removed]",
      "text/plain": [
       "<Figure size 432x288 with 2 Axes>"
      ]
     },
     "metadata": {},
     "output_type": "display_data"
    },
    {
     "name": "stdout",
     "output_type": "stream",
     "text": [
      "BEST PERFORMANCE ON TESTING\n",
      "╒══════════════╤══════════╤══════════╕\n",
      "│   Threshold  │     MCC  │     ACC  │\n",
      "╞══════════════╪══════════╪══════════╡\n",
      "│        1e-09 │ 0.997087 │ 0.999996 │\n",
      "╘══════════════╧══════════╧══════════╛ \n",
      "ConfusionMx\n"
     ]
    },
    {
     "data": {
      "image/png": "[encoded data removed]",
      "text/plain": [
       "<Figure size 432x288 with 2 Axes>"
      ]
     },
     "metadata": {},
     "output_type": "display_data"
    }
   ],
   "source": [
    "from sklearn.model_selection import StratifiedKFold\n",
    "\n",
    "X = data['e-value']\n",
    "y = data['attribute']\n",
    "\n",
    "skf = StratifiedKFold(n_splits=2, shuffle=True,random_state=2)\n",
    "skf.get_n_splits(X, y)\n",
    "\n",
    "for train_index, test_index in skf.split(X, y):\n",
    "    print(\"TRAIN:\", train_index, \"TEST:\", test_index)\n",
    "    X_train, X_test = X[train_index], X[test_index]\n",
    "    y_train, y_test = y[train_index], y[test_index]\n",
    "\n",
    "c=0\n",
    "for i in y_test:\n",
    "    if i == 0:\n",
    "        c += 1 \n",
    "print(c)\n",
    "\n",
    "max_mcc, th, acc = mcc_acc_index(y_train, get_eval(X_train))\n",
    "print(tabulate([['Trained Threshold ','MCC ', 'ACC '], [th, max_mcc, acc]], headers='firstrow', tablefmt='fancy_grid'),'\\nConfusionMx' )\n",
    "max_pred_ytrain, cm = get_cfmx(th, get_eval(X_train), y_train)\n",
    "plot_cm(y_test, max_pred_ytrain)\n",
    "print('BEST PERFORMANCE ON TESTING')\n",
    "max_pred_ytest, cm = get_cfmx(th, get_eval(X_test), y_test)\n",
    "print(tabulate([['Threshold ','MCC ', 'ACC '], [th, matthews_corrcoef(y_test, max_pred_ytest), accuracy_score(y_test, max_pred_ytest)]], headers='firstrow', tablefmt='fancy_grid'),'\\nConfusionMx' )\n",
    "#print('Best performance on testing:','\\nThreshold: ',th,'\\nMCC: ', matthews_corrcoef(y_test, max_pred_ytest),'\\nACC: ', accuracy_score(y_test, max_pred_ytest),'\\nConfusionMx:')\n",
    "plot_cm(y_test, max_pred_ytest)"
   ]
  },
  {
   "cell_type": "code",
   "execution_count": null,
   "metadata": {},
   "outputs": [],
   "source": []
  }
 ],
 "metadata": {
  "kernelspec": {
   "display_name": "Python 3",
   "language": "python",
   "name": "python3"
  },
  "language_info": {
   "codemirror_mode": {
    "name": "ipython",
    "version": 3
   },
   "file_extension": ".py",
   "mimetype": "text/x-python",
   "name": "python",
   "nbconvert_exporter": "python",
   "pygments_lexer": "ipython3",
   "version": "3.7.6"
  }
 },
 "nbformat": 4,
 "nbformat_minor": 4
}