{
 "cells": [
  {
   "cell_type": "markdown",
   "metadata": {
    "colab_type": "text",
    "id": "vPvgYnd0a-Zd"
   },
   "source": [
    "### Laboratory of Bioinformatics I (Second Module)\n",
    "\n",
    "**Main steps for the implementation of the project.**\n",
    "\n"
   ]
  },
  {
   "cell_type": "markdown",
   "metadata": {
    "colab_type": "text",
    "id": "0O3rZ4r2cqlM"
   },
   "source": [
    "**Main Aim**: Developemnet of a method for the detection BPTI/Kunitz domain in proteins.\n",
    "\n",
    "**Methodology**: Hidden Markov Model based on structural alignment."
   ]
  },
  {
   "cell_type": "markdown",
   "metadata": {
    "colab_type": "text",
    "id": "jRKsOgU9cwuc"
   },
   "source": [
    "The workflow of the project is summarized as follows\n",
    "\n",
    "1.  Selection of a representative set of protein structures from PDB.\n",
    "2.  Multiple structural alignment with web available tools.\n",
    "3.  Generation of the Hidden Markow Model for modeling BPTI/Kunitz domain.\n",
    "4.  Selection of training and testing set from UniProt.\n",
    "5.  Method optimization and assesment. "
   ]
  },
  {
   "cell_type": "markdown",
   "metadata": {
    "colab_type": "text",
    "id": "-UmtL0rQuaiQ"
   },
   "source": [
    "**Selection a representative set of protein structures from PDB.**\n",
    "\n",
    "For this task we use the advanced search on the PDB web page. It is possible to use different contrains in the search. For the selection of the structures it is important to consider:\n",
    "\n",
    "*   The resolution\n",
    "*   The length of the protein\n",
    "*   External identifiers for BPTI/Kunitz domain (e.g. PFAM, SCOP CATH)\n",
    "\n",
    "When a list of PDB strutures is returned if it is feasible you should look to the proteins to check if they have a BPTI/Kunitz domain. \n",
    "From the PDB web page it is possible to download the using the sequence report it is possible to download and the protein sequence and chec for the possibl redundance in the set of proteins.\n",
    "To check for the redundancy in the dataset you can use *blastclast* algorithm. Blastclust takes in imput a fasta faile containing a set of sequences adn cluster them according to the level of sequnece identity and coverage between the proteins. The option *-S* and *-L* for the program are used to control the percentage of sequence identity and the coverage respectively.\n"
   ]
  },
  {
   "cell_type": "code",
   "execution_count": null,
   "metadata": {
    "colab": {},
    "colab_type": "code",
    "id": "bRTfj6AoyZXi"
   },
   "outputs": [],
   "source": [
    "#The command sed and awk can be used to clean the csv file returned by the PDB.\n",
    "\n",
    "# Replace inner comma\n",
    "sed 's/, /_/g' filename \n",
    "\n",
    "# Remove spaces \n",
    "sed 's/ //g' filename\n",
    "\n",
    "# split by comma\n",
    "awk -F \",\" '{print $1,$2}'  filename\n",
    "\n",
    "# After genereting a fasta file run blustclust with sequen identity of 95% and 90% coverage.\n",
    "blastclust -i seqfile.fasta -o seqfile.clust -S 95 -L 0.9"
   ]
  },
  {
   "cell_type": "markdown",
   "metadata": {
    "colab_type": "text",
    "id": "6BYKn2Fa1AHS"
   },
   "source": [
    "When the cluster file is returned select a representative structure for each cluster  considering the resolution of the structure and the length of the protein."
   ]
  },
  {
   "cell_type": "markdown",
   "metadata": {
    "colab_type": "text",
    "id": "YY2tq8961fWe"
   },
   "source": [
    "**Multiple structural alignment with web available tools.**\n",
    "\n",
    "After collecting a clean set of protein structures calculate the multiple structure alignment using web available tools such as [PDBeFold](https://www.ebi.ac.uk/msd-srv/ssm/), [PROMALS3D](http://prodata.swmed.edu/promals3d) [mTM-align](https://yanglab.nankai.edu.cn/mTM-align/).\n",
    "Check the returned alignment and look for the RMSD between pair of structures and the sequence identity. This information can be important to detect possible errors in the initial selection of the BPTI/Kunitz domain proteins.\n",
    "Finally download the fasta file representing the multiple structure alignment.\n",
    "\n"
   ]
  },
  {
   "cell_type": "markdown",
   "metadata": {
    "colab_type": "text",
    "id": "1xw0J02P3dEB"
   },
   "source": [
    "**Generation of the Hidden Markow Model for modeling BPTI/Kunitz domain.**\n",
    "\n",
    "When the alignemnt is returned it is importat to manually check the alignement to look for the conserved residues and the possible errors in the alignement. Ater that you can generate the HMM using *hmmbuild* command from [HMMER](http://hmmer.org/) package. \n"
   ]
  },
  {
   "cell_type": "code",
   "execution_count": null,
   "metadata": {
    "colab": {},
    "colab_type": "code",
    "id": "jaeg1uBm44lQ"
   },
   "outputs": [],
   "source": [
    "# Generate the HMM\n",
    "hmmbuild bpti-kunitz.hmm align-bpti-kunitz.fasta"
   ]
  },
  {
   "cell_type": "markdown",
   "metadata": {
    "colab_type": "text",
    "id": "4LEOQdjN5T_M"
   },
   "source": [
    "**Selection of training and testing set from UniProt.**\n",
    "\n",
    "This task is performd using the advanced searc of UniProt database using as a key search the Pfam identifier of the BPTI/Kunitz domain. The search has to be restriictued to the protein in SwissProt the are manually annotated.\n",
    "With this search you will obtain ~350 protein containing BPTI/Kuntiz domain that will rapresente the positive set. All the remaining proteins in SwissProt can be used as negatives. \n",
    "\n",
    "For a fair test of your HMM model you should remove the seqnece in the positive set that share high level of sequence identity with the protein structures collected for generating the model. This task can be performed using *blastpgp* with the option -m 8 checking for sequences with low e-value (column 11) and high sequence identity (column 3)."
   ]
  },
  {
   "cell_type": "code",
   "execution_count": null,
   "metadata": {
    "colab": {},
    "colab_type": "code",
    "id": "P8eQXWyH8wwb"
   },
   "outputs": [],
   "source": [
    "# Run trasforming the sequences of the selected structures in database\n",
    "formatdb -i selected-bpti-kunits.fasta\n",
    "\n",
    "# Run blastpgp to matche the positive set agains the selected bpti-kunitz.\n",
    "blastpgp -i positives.fasta -d selected-bpti-kunits.fasta -m 8 -o positives.bl8"
   ]
  },
  {
   "cell_type": "markdown",
   "metadata": {},
   "source": [
    "Using the output of blastpgp you can select the proteins that should be removed from the set of positives.italicized text"
   ]
  },
  {
   "cell_type": "markdown",
   "metadata": {},
   "source": [
    "Method optimization and assessment.\n",
    "\n",
    "When the final benchmark set has been collected a basic testing procedure consist in the implementation of a 2-fold cross-validation test. It consists in splitting positives and negatives in 2 subsets, optimizing the classification threshold on one subset and testing the performance on the other subset.\n",
    "\n",
    "When the the dataset is splitted in two parts with the same size you can run the hmmsearch on the different subsets. It is better to run the command using the following options:\n",
    "\n",
    "- --max: turns off all the heuristics for cutting of distantly related proteins\n",
    "--noali: exclude from the output the alignemnts\n",
    "--tblout: returns the output in tabular form\n",
    "- -Z: It is important for normalizing the e-value output\n",
    "\n",
    "An example of command for macthing a set of sequences (clean_set.fasta) with the HMM model (bpti-kunitz.hmm) is the following:"
   ]
  },
  {
   "cell_type": "code",
   "execution_count": null,
   "metadata": {},
   "outputs": [],
   "source": [
    "# hmmsearch command matching the model (bpti-kunitz.hmm) with sequence in clean_set.fasta\n",
    "\n",
    "hmmsearch --noali --max --tblout output.txt -Z 1 bpti-kunitz.hmm clean_set.fasta"
   ]
  }
 ],
 "metadata": {
  "colab": {
   "name": "5-Project-Workflow.ipynb",
   "provenance": []
  },
  "kernelspec": {
   "display_name": "Python 3",
   "language": "python",
   "name": "python3"
  },
  "language_info": {
   "codemirror_mode": {
    "name": "ipython",
    "version": 3
   },
   "file_extension": ".py",
   "mimetype": "text/x-python",
   "name": "python",
   "nbconvert_exporter": "python",
   "pygments_lexer": "ipython3",
   "version": "3.7.6"
  }
 },
 "nbformat": 4,
 "nbformat_minor": 4
}
