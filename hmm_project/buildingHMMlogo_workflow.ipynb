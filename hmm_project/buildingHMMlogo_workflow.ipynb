{
 "cells": [
  {
   "cell_type": "markdown",
   "metadata": {},
   "source": [
    "# Building an HMMlogo\n",
    "## 1 step - Retrieve all the sequences of the structures that present the Kunitz domain. \n",
    "How? it is possible to do so by doing a [PDB advance search](https://www.rcsb.org/search/advanced) with the query:"
   ]
  },
  {
   "cell_type": "markdown",
   "metadata": {},
   "source": [
    "```(Annotation Identifier = \"PF00014\" AND Annotation Type = \"Pfam\") AND Resolution (Å) = [0 - 3]```\n",
    "\n",
    "we retrieved ```236``` structures ID"
   ]
  },
  {
   "cell_type": "markdown",
   "metadata": {},
   "source": [
    "then we download the PDB IDs in ```.cvs``` format and we run the command to see if every sequence has been taken. "
   ]
  },
  {
   "cell_type": "code",
   "execution_count": 2,
   "metadata": {},
   "outputs": [
    {
     "name": "stdout",
     "output_type": "stream",
     "text": [
      "236 rcsb_pdb_pdb_ids_20200423153832.csv\n"
     ]
    }
   ],
   "source": [
    "!wc -l rcsb_pdb_pdb_ids_20200423153832.csv"
   ]
  },
  {
   "cell_type": "markdown",
   "metadata": {},
   "source": [
    "to retrieve the fasta sequences we will perform a pairwise alignment between our 236 structure and a well annotated kunitz-domain structure ```3TGI:I``` to retrieve those specific chains that do actually contain the kunitz domain. We will perform the alignments on [PDBeFold](https://www.ebi.ac.uk/msd-srv/ssm/cgi-bin/ssmserver). Here we require a certain file format. In this case, it would require a list of pdb id w/o quotes. We will get rid of them with ```sed``` command: "
   ]
  },
  {
   "cell_type": "code",
   "execution_count": 11,
   "metadata": {},
   "outputs": [
    {
     "name": "stdout",
     "output_type": "stream",
     "text": [
      "3OTJ\n",
      "3D65\n",
      "3DXC\n",
      "3DXD\n",
      "3DXE\n",
      "2RA3\n",
      "2TPI\n",
      "2TGP\n",
      "5PTI\n",
      "5TPT\n"
     ]
    }
   ],
   "source": [
    "!sed 's,\",,g' rcsb_pdb_pdb_ids_20200423153832.csv > rcsb_pdb_pdb_ids_20200423153832.txt \n",
    "!head rcsb_pdb_pdb_ids_20200423153832.txt"
   ]
  },
  {
   "cell_type": "markdown",
   "metadata": {},
   "source": [
    "Then we upload the file in the input page of PDBeFold and we'll set this parameters:\n",
    "```Lowest acceptable match (%) = 80%``` for each input. \n",
    "\n",
    "Matches found were ```258```. Now we can ```Download target sequences``` in fasta format. \n",
    "\n",
    "I saved it as ```seq_kunitz.fasta```"
   ]
  },
  {
   "cell_type": "code",
   "execution_count": 20,
   "metadata": {},
   "outputs": [
    {
     "name": "stdout",
     "output_type": "stream",
     "text": [
      "258\n"
     ]
    }
   ],
   "source": [
    "!grep \">\" seq_kunitz.fasta | wc -l "
   ]
  },
  {
   "cell_type": "markdown",
   "metadata": {},
   "source": [
    "## step 2 - clustering our results\n",
    "\n",
    "Now that we have 258 sequences we want to cluster them in order to have representative sequences to do the multiple sequences alignment. \n",
    "We'll do:"
   ]
  },
  {
   "cell_type": "code",
   "execution_count": 1,
   "metadata": {},
   "outputs": [
    {
     "name": "stdout",
     "output_type": "stream",
     "text": [
      "================================================================\n",
      "Program: CD-HIT, V4.8.1 (+OpenMP), Oct 26 2019, 14:51:47\n",
      "Command: cd-hit -i seq_kunitz.fasta -o cluster.fasta\n",
      "\n",
      "Started: Thu Apr 23 18:08:36 2020\n",
      "================================================================\n",
      "                            Output                              \n",
      "----------------------------------------------------------------\n",
      "total seq: 258\n",
      "longest and shortest : 66 and 41\n",
      "Total letters: 14655\n",
      "Sequences have been sorted\n",
      "\n",
      "Approximated minimal memory consumption:\n",
      "Sequence        : 0M\n",
      "Buffer          : 1 X 10M = 10M\n",
      "Table           : 1 X 65M = 65M\n",
      "Miscellaneous   : 0M\n",
      "Total           : 75M\n",
      "\n",
      "Table limit with the given memory limit:\n",
      "Max number of representatives: 4000000\n",
      "Max number of word counting entries: 90511720\n",
      "\n",
      "comparing sequences from          0  to        258\n",
      "\n",
      "      258  finished         20  clusters\n",
      "\n",
      "Approximated maximum memory consumption: 75M\n",
      "writing new database\n",
      "writing clustering information\n",
      "program completed !\n",
      "\n",
      "Total CPU time 0.10\n"
     ]
    }
   ],
   "source": [
    "!cd-hit -i seq_kunitz.fasta -o cluster.fasta"
   ]
  },
  {
   "cell_type": "code",
   "execution_count": 12,
   "metadata": {},
   "outputs": [
    {
     "name": "stdout",
     "output_type": "stream",
     "text": [
      ">PDB:1yld:B TRYPSIN/BPTI COMPLEX MUTANT\n",
      "RPDFXLEPPYTGPCKARIIRYFYNAPDGLXQTFVYGGCRAKRNNFKSAEDXMRTXG\n",
      ">PDB:1fak:I HUMAN TISSUE FACTOR COMPLEXED WITH COAGULATION FAC\n",
      "APDFCLEPPYDGPCRALHLRYFYNAKAGLCQTFYYGGCLAKRNNFESAEDCMRTC\n",
      ">PDB:5jb7:B A SIMPLIFIED BPTI VARIANT CONTAINING 24 ALANINES O\n",
      "RPAFCLEAPYAGPGAAAIIRYFYNAAAGAAQAFVYGGVAAKRNNFASAAAALAACAAA\n",
      ">PDB:1t8l:D CRYSTAL STRUCTURE OF THE P1 MET BPTI MUTANT- BOVIN\n",
      "MRPDFCLEPPYTGPCMARIIRYFYNAKAGLCQTFVYGGCRAKRNNFKSAEDCLRTCGGA\n",
      ">PDB:5zj3:B TEXTILININ-1, A KUNITZ-TYPE SERINE PROTEASE INHIBI\n",
      "KDRPDFCELPADTGPCRVRFPSFYYNPDEKKCLEFIYGGCEGNANNFITKEECESTCA\n"
     ]
    }
   ],
   "source": [
    "!head cluster.fasta"
   ]
  },
  {
   "cell_type": "markdown",
   "metadata": {},
   "source": [
    "Number of clusters is:"
   ]
  },
  {
   "cell_type": "code",
   "execution_count": 9,
   "metadata": {},
   "outputs": [
    {
     "name": "stdout",
     "output_type": "stream",
     "text": [
      "20\n"
     ]
    }
   ],
   "source": [
    "!grep '>' cluster.fasta| wc -l "
   ]
  },
  {
   "cell_type": "markdown",
   "metadata": {},
   "source": [
    "Let's inspect our result by extracting the list of ids first:"
   ]
  },
  {
   "cell_type": "code",
   "execution_count": 5,
   "metadata": {},
   "outputs": [],
   "source": [
    "!cat cluster.fasta|grep \">\"|awk 'BEGIN {FS=OFS=\":\"} {print $2, $3}'| cut -d \" \" -f 1 > curated_seed.list"
   ]
  },
  {
   "cell_type": "code",
   "execution_count": 9,
   "metadata": {},
   "outputs": [
    {
     "name": "stdout",
     "output_type": "stream",
     "text": [
      ">PDB:1yld:B TRYPSIN/BPTI COMPLEX MUTANT\n",
      ">PDB:1t8l:D CRYSTAL STRUCTURE OF THE P1 MET BPTI MUTANT- BOVIN\n"
     ]
    }
   ],
   "source": [
    "!grep '' cluster.fasta"
   ]
  },
  {
   "cell_type": "code",
   "execution_count": 10,
   "metadata": {},
   "outputs": [
    {
     "name": "stdout",
     "output_type": "stream",
     "text": [
      "1yld:B\n",
      "1fak:I\n",
      "5jb7:B\n",
      "1t8l:D\n",
      "5zj3:B\n",
      "4u32:X\n",
      "4dtg:K\n",
      "6q61:A\n",
      "1zjd:B\n",
      "5yv7:A\n"
     ]
    }
   ],
   "source": [
    "!head curated_seed.list"
   ]
  },
  {
   "cell_type": "markdown",
   "metadata": {},
   "source": [
    "```1yld:B ---> mutant\n",
    "1fak:I ---> mutant\n",
    "5jb7:B ---> mutant\n",
    "1t8l:D ---> mutant\n",
    "5zj3:B ---> ok\n",
    "4u32:X ---> ok\n",
    "4dtg:K ---> ok\n",
    "6q61:A ---> ok\n",
    "1zjd:B ---> ok wt\n",
    "5yv7:A ---> seems ok\n",
    "1dtx:A ---> ok\n",
    "1kth:A ---> ??\n",
    "4bqd:B ---> ok\n",
    "3m7q:B ---> ok\n",
    "1zr0:B ---> ok\n",
    "4u30:X ---> ok\n",
    "4ntx:B ---> ok\n",
    "1yc0:I ---> ok\n",
    "1bun:B ---> ok\n",
    "1d0d:A ---> RMSD value very high, low seq identity, i will discard it```\n",
    "\n",
    "let's delete those clusters that are not useful:"
   ]
  },
  {
   "cell_type": "code",
   "execution_count": 14,
   "metadata": {},
   "outputs": [
    {
     "name": "stdout",
     "output_type": "stream",
     "text": [
      " 15  15 105 hmm_seq_ids.list\n"
     ]
    }
   ],
   "source": [
    "!tail +5 curated_seed.list | head -15 > hmm_seq_ids.list\n",
    "!wc hmm_seq_ids.list"
   ]
  },
  {
   "cell_type": "markdown",
   "metadata": {},
   "source": [
    "Once the fasta format file is filtered out with our alignments we can perform the hmmbuild"
   ]
  },
  {
   "cell_type": "markdown",
   "metadata": {},
   "source": [
    "## step 3 - building the hmm\n",
    "\n",
    "In order to build the hmm model, we need to perform multiple sequences alignment, we will do it on [PDBeFold tool](https://www.ebi.ac.uk/msd-srv/ssm/cgi-bin/ssmserver). \n",
    "\n",
    "Our input file would be ```hmm_seq_ids.list```. "
   ]
  },
  {
   "cell_type": "markdown",
   "metadata": {},
   "source": [
    "we will download the alignment from the result page as ```multi_alicluster.seq```"
   ]
  },
  {
   "cell_type": "code",
   "execution_count": 16,
   "metadata": {},
   "outputs": [
    {
     "name": "stdout",
     "output_type": "stream",
     "text": [
      ">PDB:5zj3:B TEXTILININ-1, A KUNITZ-TYPE SERINE PROTEASE INHIBI\n",
      "-----kdrPd-fC-ELPADT--GP-CRvRFPSFYYNPDEKKCLEFIYGgCEG-NANNFITKEECESTCa-\n",
      "--\n",
      "\n",
      ">PDB:4u32:X HUMAN MESOTRYPSIN COMPLEXED WITH HAI-2 KUNITZ DOMA\n",
      "--------Hd-fC-LVSKVV--GR-CRaSMPRWWYNVTDGSCQLFVYGgCDG-NSNNYLTKEECLKKC--\n",
      "--\n",
      "\n",
      ">PDB:4dtg:K HEMOSTATIC EFFECT OF A MONOCLONAL ANTIBODY MAB 202\n",
      "------ekPd-fC-FLEEDP--GI-CRgYITRYFYNNQTKQCERFKYGgCLG-NMNNFETLEECKNICed\n"
     ]
    }
   ],
   "source": [
    "!head mult_alicluster.seq"
   ]
  },
  {
   "cell_type": "markdown",
   "metadata": {},
   "source": [
    "Now, we can build our **Hidden markov model** ."
   ]
  },
  {
   "cell_type": "code",
   "execution_count": 17,
   "metadata": {},
   "outputs": [
    {
     "name": "stdout",
     "output_type": "stream",
     "text": [
      "# hmmbuild :: profile HMM construction from multiple sequence alignments\n",
      "# HMMER 3.3 (Nov 2019); http://hmmer.org/\n",
      "# Copyright (C) 2019 Howard Hughes Medical Institute.\n",
      "# Freely distributed under the BSD open source license.\n",
      "# - - - - - - - - - - - - - - - - - - - - - - - - - - - - - - - - - - - -\n",
      "# input alignment file:             mult_alicluster.seq\n",
      "# output HMM file:                  kunitz_newlogo.hmm\n",
      "# name (the single) HMM:            kunitz\n",
      "# - - - - - - - - - - - - - - - - - - - - - - - - - - - - - - - - - - - -\n",
      "\n",
      "# idx name                  nseq  alen  mlen eff_nseq re/pos description\n",
      "#---- -------------------- ----- ----- ----- -------- ------ -----------\n",
      "1     kunitz                  15    72    60     1.92  0.931 \n",
      "\n",
      "# CPU time: 0.08u 0.00s 00:00:00.08 Elapsed: 00:00:00.09\n"
     ]
    }
   ],
   "source": [
    "!hmmbuild -n kunitz kunitz_newlogo.hmm mult_alicluster.seq "
   ]
  },
  {
   "cell_type": "markdown",
   "metadata": {},
   "source": [
    "Results are in two files, I can generate a HMMlogo by going on https://skylign.org/"
   ]
  },
  {
   "cell_type": "markdown",
   "metadata": {},
   "source": [
    "The logo will be like this:\n",
    "![hmm_logo](../Images/hmmlogo.png)"
   ]
  },
  {
   "cell_type": "markdown",
   "metadata": {
    "pycharm": {
     "name": "#%% md\n"
    }
   },
   "source": [
    "If we compare it with pfam hmm logo we'll see that most of the conserved residues are present:\n",
    "![pfamlogo](../Images/WT_hmmlogo.png)\n",
    "\n",
    "\n"
   ]
  }
 ],
 "metadata": {
  "kernelspec": {
   "display_name": "Python 3",
   "language": "python",
   "name": "python3"
  },
  "language_info": {
   "codemirror_mode": {
    "name": "ipython",
    "version": 3
   },
   "file_extension": ".py",
   "mimetype": "text/x-python",
   "name": "python",
   "nbconvert_exporter": "python",
   "pygments_lexer": "ipython3",
   "version": "3.7.6"
  }
 },
 "nbformat": 4,
 "nbformat_minor": 4
}