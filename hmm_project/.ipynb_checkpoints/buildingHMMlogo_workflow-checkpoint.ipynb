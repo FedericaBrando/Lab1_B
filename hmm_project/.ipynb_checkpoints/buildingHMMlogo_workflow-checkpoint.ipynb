{
 "cells": [
  {
   "cell_type": "markdown",
   "metadata": {
    "pycharm": {
     "name": "#%% md\n"
    }
   },
   "source": [
    "- pdb search with all bpti domain\n",
    "- then I do pairwise alignment between the structure with highest annotation and without any mutation with pdfold we can retrieve the chain id and the query\n",
    "- cluster cd-hit -i [input] -o [output]\n",
    "- I'll do a multiple alignment with pdbefold, to extract the ids I'll use:"
   ]
  },
  {
   "cell_type": "markdown",
   "metadata": {},
   "source": [
    "# Building an HMMlogo\n",
    "## 1 step - Retrieve all the sequences of the structures that present the Kunitz domain. \n",
    "How? it is possible to do so by doing a [PDB advance search](https://www.rcsb.org/search/advanced) with the query:"
   ]
  },
  {
   "cell_type": "markdown",
   "metadata": {},
   "source": [
    "```(Annotation Identifier = \"PF00014\" AND Annotation Type = \"Pfam\") AND Resolution (Å) = [0 - 3]```\n",
    "\n",
    "we retrieved ```236``` structures ID"
   ]
  },
  {
   "cell_type": "markdown",
   "metadata": {},
   "source": [
    "then we download the PDB IDs in ```.cvs``` format and we run the command to see if every sequence has been taken. "
   ]
  },
  {
   "cell_type": "code",
   "execution_count": null,
   "metadata": {},
   "outputs": [],
   "source": [
    "!"
   ]
  },
  {
   "cell_type": "code",
   "execution_count": null,
   "metadata": {},
   "outputs": [],
   "source": [
    "!cat cluster.fasta|grep \">\"|awk 'BEGIN {FS=OFS=\":\"} {print $2, $3}'| cut -d \" \" -f 1 > curated_seed.list"
   ]
  },
  {
   "cell_type": "markdown",
   "metadata": {},
   "source": [
    "-Output will be a list of sequences, Saul analysis\n",
    "```1yld:B mutant BPTI cluster 16\n",
    "    1t8l😄 mutant BPTI cluster 9\n",
    "    5jb7:B mutant BPTI cluster 12\n",
    "    1fak:I mutant BPTI cluster 17\n",
    "    4u32:X HAI2 KD1, ok\n",
    "    4bqd:B TFPI human KD1, ok\n",
    "    1yc0:I HAI1 KD2, only domain but ok\n",
    "    4dtg:K TFPI human KD2, ok\n",
    "    1zjd:B Nexin2 human (amiloid beta precursor) KD, ok\n",
    "    5zj3:B Textilinin 2, ok\n",
    "    6q61:A cunucotoxin, ok\n",
    "    1zr0:B TFPI2 human KD1, ok\n",
    "    4u30:X AMBP KD2, ok\n",
    "    5yv7:A dendroaspis calcicudine, ok\n",
    "    1dtx:A green mamba, ok\n",
    "    3m7q:B SHPI-1 from anemone, ok\n",
    "    2knt:A KD of human collagen\n",
    "    4ntx:B snake toxin MitTx, ok\n",
    "    1bun:B beta-bungarotoxin, ok\n",
    "    1d0d:A anticoagulant toxin from tick, sequence much different see below analysis``` "
   ]
  },
  {
   "cell_type": "markdown",
   "metadata": {},
   "source": [
    "Once the fasta format file is filtered out with our alignments we can perform the hmmbuild"
   ]
  },
  {
   "cell_type": "code",
   "execution_count": null,
   "metadata": {},
   "outputs": [],
   "source": [
    "!hmmbuild -n Kunitz kunitz_newlogo.hmm mult_ali.seq \n"
   ]
  },
  {
   "cell_type": "markdown",
   "metadata": {},
   "source": [
    "Results are in two files, I can generate a HMMlogo by going on https://skylign.org/"
   ]
  },
  {
   "cell_type": "markdown",
   "metadata": {},
   "source": [
    "cross validation : you have a set of reference and you divide this set in a given number of subset. In principle you should divide it, in at least 3 subset. There are different way to decide how you divide your set according to the usage. We will do it randomly. This procedure consists in:\n",
    "-divide\n",
    "-take n-1 of the subset and ..\n",
    "\n",
    "we need to remove from our benchmark set those sequences used to generate our model.\n",
    "To do so we can use blast. We can blast our sequences from the pdb retrieved earlier, to the oneretrieved from uniprot (all_PF00014.fasta).\n",
    "\n",
    "After the blasting you have to sort by the seq Id. column, when finding 100% seq.identity we have a problem.\n",
    "\n",
    "blastp -query all_PF00014.fasta -db  -outfmt 6 -out ../blastbase_search/allbpti.bl6\n",
    "\n"
   ]
  }
 ],
 "metadata": {
  "kernelspec": {
   "display_name": "Python 3",
   "language": "python",
   "name": "python3"
  },
  "language_info": {
   "codemirror_mode": {
    "name": "ipython",
    "version": 3
   },
   "file_extension": ".py",
   "mimetype": "text/x-python",
   "name": "python",
   "nbconvert_exporter": "python",
   "pygments_lexer": "ipython3",
   "version": "3.7.6"
  }
 },
 "nbformat": 4,
 "nbformat_minor": 4
}
