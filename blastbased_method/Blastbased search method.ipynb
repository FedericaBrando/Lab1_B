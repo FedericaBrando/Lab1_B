{
 "cells": [
  {
   "cell_type": "code",
   "execution_count": 2,
   "metadata": {
    "pycharm": {
     "name": "#%%\n"
    }
   },
   "outputs": [
    {
     "name": "stdout",
     "output_type": "stream",
     "text": [
      "export CLICOLOR='1'\n",
      "export CLUTTER_IM_MODULE='xim'\n",
      "export CONDA_DEFAULT_ENV='Lab1_B'\n",
      "export CONDA_PREFIX='/home/fecke/anaconda3/envs/Lab1_B'\n",
      "export CONDA_PROMPT_MODIFIER='(Lab1_B) '\n",
      "export CONDA_SHLVL='1'\n",
      "export DBUS_SESSION_BUS_ADDRESS='unix:path=/run/user/1000/bus'\n",
      "export DESKTOP_SESSION='ubuntu'\n",
      "export DISPLAY=':0'\n",
      "export GDMSESSION='ubuntu'\n",
      "export GIO_LAUNCHED_DESKTOP_FILE='/home/fecke/.local/share/applications/jetbrains-pycharm.desktop'\n",
      "export GIO_LAUNCHED_DESKTOP_FILE_PID='31692'\n",
      "export GIT_PAGER='cat'\n",
      "export GJS_DEBUG_OUTPUT='stderr'\n",
      "export GJS_DEBUG_TOPICS='JS ERROR;JS LOG'\n",
      "export GNOME_DESKTOP_SESSION_ID='this-is-deprecated'\n",
      "export GNOME_SHELL_SESSION_MODE='ubuntu'\n",
      "export GPG_AGENT_INFO='/run/user/1000/gnupg/S.gpg-agent:0:1'\n",
      "export GTK_IM_MODULE='ibus'\n",
      "export GTK_MODULES='gail:atk-bridge'\n",
      "export HOME='/home/fecke'\n",
      "export IM_CONFIG_PHASE='2'\n",
      "export JPY_PARENT_PID='6228'\n",
      "export KERNEL_LAUNCH_TIMEOUT='40'\n",
      "export LANG='it_IT.UTF-8'\n",
      "export LOGNAME='fecke'\n",
      "export MPLBACKEND='module://ipykernel.pylab.backend_inline'\n",
      "export OLDPWD='/home/fecke/.local/share/JetBrains/Toolbox/apps/PyCharm-P/ch-0/201.6668.115/bin'\n",
      "export PAGER='cat'\n",
      "export PATH='/home/fecke/anaconda3/envs/Lab1_B/bin:/home/fecke/anaconda3/condabin:/usr/local/sbin:/usr/local/bin:/usr/sbin:/usr/bin:/sbin:/bin:/usr/games:/usr/local/games:/snap/bin'\n",
      "export PWD='/home/fecke/PycharmProjects/Lab1_B/blastbased_method'\n",
      "export PYTHONPATH='/home/fecke/PycharmProjects/Lab1_B'\n",
      "export QT4_IM_MODULE='xim'\n",
      "export QT_ACCESSIBILITY='1'\n",
      "export QT_IM_MODULE='ibus'\n",
      "export SESSION_MANAGER='local/MiFecke:@/tmp/.ICE-unix/1510,unix/MiFecke:/tmp/.ICE-unix/1510'\n",
      "export SHELL='/bin/bash'\n",
      "export SHLVL='0'\n",
      "export SSH_AGENT_PID='1612'\n",
      "export SSH_AUTH_SOCK='/run/user/1000/keyring/ssh'\n",
      "export TERM='xterm-color'\n",
      "export TEXTDOMAIN='im-config'\n",
      "export TEXTDOMAINDIR='/usr/share/locale/'\n",
      "export USER='fecke'\n",
      "export USERNAME='fecke'\n",
      "export WINDOWPATH='2'\n",
      "export XAUTHORITY='/run/user/1000/gdm/Xauthority'\n",
      "export XDG_CONFIG_DIRS='/etc/xdg/xdg-ubuntu:/etc/xdg'\n",
      "export XDG_CURRENT_DESKTOP='ubuntu:GNOME'\n",
      "export XDG_DATA_DIRS='/usr/share/ubuntu:/usr/local/share/:/usr/share/:/var/lib/snapd/desktop'\n",
      "export XDG_MENU_PREFIX='gnome-'\n",
      "export XDG_RUNTIME_DIR='/run/user/1000'\n",
      "export XDG_SEAT='seat0'\n",
      "export XDG_SESSION_DESKTOP='ubuntu'\n",
      "export XDG_SESSION_ID='2'\n",
      "export XDG_SESSION_TYPE='x11'\n",
      "export XDG_VTNR='2'\n",
      "export XMODIFIERS='@im=ibus'\n"
     ]
    },
    {
     "data": {
      "text/plain": [
       "<Handlers.SIG_IGN: 1>"
      ]
     },
     "execution_count": 2,
     "metadata": {},
     "output_type": "execute_result"
    }
   ],
   "source": [
    "from signal import signal, SIGPIPE, SIG_DFL\n",
    "signal(SIGPIPE, SIG_DFL)"
   ]
  },
  {
   "cell_type": "markdown",
   "metadata": {
    "pycharm": {
     "name": "#%% md\n"
    }
   },
   "source": [
    "# Blast based method - workflow\n",
    "This exercise is essential to learn how to build an Hidden Markov Model and it is necessary to follow the flowchart in order to get done the project for LAB_1 - Capriotti\n",
    "\n",
    "*We want to build a blast-based method to predict the presence of BPTI/Kunitz domain in proteins available in SwissProt using the human proteins as a reference*\n",
    "1. Select all proteins in SwissProt with BPTI/Kunitz domain\n",
    "- Separate human from non human proteins. Une the non human proteins as a positive in the testing set\n",
    "- Generate a random set of negative of the same size of the positive set\n",
    "- Remove both positives and negatives from SwissProt and perform the prediction based on the result of the blast search\n",
    "\n",
    "**The method should be based on the E-value.**\n",
    "\n",
    "_For this exercise I will use blast-legacy2.2.26 from bioconda_\n",
    "\n",
    "We will have:\n",
    "set|Training|Testing\n",
    "----|--------|-------\n",
    "negative| HumanNOTPF_training.fasta| HumanNOTPF_testing.fasta\n",
    "positive| NOTHumanPF00014|NOTHumanPF00014"
   ]
  },
  {
   "cell_type": "markdown",
   "metadata": {
    "pycharm": {
     "name": "#%% md\n"
    }
   },
   "source": [
    "## First step - retrieving data\n",
    "- In order to select our dataset we will perform a UniProt search firstly by searching for those human protein that present the Kunitz domain (_Pfam: PF00014_) with the following:"
   ]
  },
  {
   "cell_type": "raw",
   "metadata": {
    "pycharm": {
     "name": "#%% raw\n"
    }
   },
   "source": [
    "database:(type:pfam pf00014) AND reviewed:yes AND organism:\"Homo sapiens (Human) [9606]\""
   ]
  },
  {
   "cell_type": "markdown",
   "metadata": {},
   "source": [
    "- then we will find all those proteins which are not from human organism but present the Kunitz domain:"
   ]
  },
  {
   "cell_type": "raw",
   "metadata": {
    "pycharm": {
     "name": "#%% raw\n"
    }
   },
   "source": [
    "database:(type:pfam pf00014) AND reviewed:yes AND (NOT organism:\"Homo sapiens (Human) [9606])\""
   ]
  },
  {
   "cell_type": "markdown",
   "metadata": {
    "pycharm": {
     "name": "#%% md\n"
    }
   },
   "source": [
    "in order to find how many sequences are in each file we'll do:"
   ]
  },
  {
   "cell_type": "code",
   "execution_count": 3,
   "metadata": {
    "pycharm": {
     "name": "#%%\n"
    }
   },
   "outputs": [
    {
     "name": "stdout",
     "output_type": "stream",
     "text": [
      "18\n"
     ]
    }
   ],
   "source": [
    "!grep '>' ../databases/HumanPF00014.fasta |wc -l"
   ]
  },
  {
   "cell_type": "code",
   "execution_count": 4,
   "metadata": {
    "pycharm": {
     "name": "#%%\n"
    }
   },
   "outputs": [
    {
     "name": "stdout",
     "output_type": "stream",
     "text": [
      "341\n"
     ]
    }
   ],
   "source": [
    "!grep '>' ../databases/NOTHumanPF00014.fasta |wc -l"
   ]
  },
  {
   "cell_type": "markdown",
   "metadata": {
    "pycharm": {
     "name": "#%% md\n"
    }
   },
   "source": [
    "- In order to make this two files into database format we can use"
   ]
  },
  {
   "cell_type": "code",
   "execution_count": 5,
   "metadata": {
    "pycharm": {
     "name": "#%%\n"
    }
   },
   "outputs": [
    {
     "name": "stdout",
     "output_type": "stream",
     "text": [
      "\n",
      "\n",
      "Building a new DB, current time: 04/19/2020 00:11:37\n",
      "New DB name:   /home/fecke/PycharmProjects/Lab1_B/databases/HumanPF00014.fasta\n",
      "New DB title:  ../databases/HumanPF00014.fasta\n",
      "Sequence type: Protein\n",
      "Deleted existing Protein BLAST database named /home/fecke/PycharmProjects/Lab1_B/databases/HumanPF00014.fasta\n",
      "Keep MBits: T\n",
      "Maximum file size: 1000000000B\n",
      "Adding sequences from FASTA; added 18 sequences in 0.00647497 seconds.\n",
      "\n",
      "\n",
      "Building a new DB, current time: 04/19/2020 00:11:37\n",
      "New DB name:   /home/fecke/PycharmProjects/Lab1_B/databases/NOTHumanPF00014.fasta\n",
      "New DB title:  ../databases/NOTHumanPF00014.fasta\n",
      "Sequence type: Protein\n",
      "Deleted existing Protein BLAST database named /home/fecke/PycharmProjects/Lab1_B/databases/NOTHumanPF00014.fasta\n",
      "Keep MBits: T\n",
      "Maximum file size: 1000000000B\n",
      "Adding sequences from FASTA; added 341 sequences in 0.0137641 seconds.\n"
     ]
    }
   ],
   "source": [
    "!makeblastdb -in  ../databases/HumanPF00014.fasta -dbtype prot\n",
    "!makeblastdb -in ../databases/NOTHumanPF00014.fasta -dbtype prot\n"
   ]
  },
  {
   "cell_type": "markdown",
   "metadata": {
    "pycharm": {
     "name": "#%% md\n"
    }
   },
   "source": [
    "- This two databases are not so large, therefore result could be not so accurate, we would need a bigger dataset. We could search for all SwissProt protein that belongs to humans and do not present the Kunitz domain with the query:"
   ]
  },
  {
   "cell_type": "raw",
   "metadata": {
    "pycharm": {
     "name": "#%% raw\n"
    }
   },
   "source": [
    "AND reviewed:yes AND organism:\"Homo sapiens (Human) [9606]\" NOT database:(type:pfam pf00014)\n"
   ]
  },
  {
   "cell_type": "code",
   "execution_count": 6,
   "metadata": {
    "pycharm": {
     "name": "#%%\n"
    }
   },
   "outputs": [
    {
     "name": "stdout",
     "output_type": "stream",
     "text": [
      "\n",
      "\n",
      "Building a new DB, current time: 04/19/2020 00:12:32\n",
      "New DB name:   /home/fecke/PycharmProjects/Lab1_B/databases/HumanNOTPF00014.fasta\n",
      "New DB title:  ../databases/HumanNOTPF00014.fasta\n",
      "Sequence type: Protein\n",
      "Deleted existing Protein BLAST database named /home/fecke/PycharmProjects/Lab1_B/databases/HumanNOTPF00014.fasta\n",
      "Keep MBits: T\n",
      "Maximum file size: 1000000000B\n",
      "Adding sequences from FASTA; added 20347 sequences in 0.753836 seconds.\n"
     ]
    }
   ],
   "source": [
    "!makeblastdb -in ../databases/HumanNOTPF00014.fasta -dbtype prot\n"
   ]
  },
  {
   "cell_type": "markdown",
   "metadata": {
    "pycharm": {
     "name": "#%% md\n"
    }
   },
   "source": [
    "Let's check how many sequences are there:"
   ]
  },
  {
   "cell_type": "code",
   "execution_count": 7,
   "metadata": {
    "pycharm": {
     "name": "#%%\n"
    }
   },
   "outputs": [
    {
     "name": "stdout",
     "output_type": "stream",
     "text": [
      "20347\n"
     ]
    }
   ],
   "source": [
    "!grep '>' ../databases/HumanNOTPF00014.fasta | wc -l"
   ]
  },
  {
   "cell_type": "markdown",
   "metadata": {},
   "source": [
    "## Second step - creating testing and training sets\n",
    "\n",
    "my negative database will be --> ```HumanNOTPF00014.fasta```\n",
    "\n",
    "I need to split my database in half:\n",
    "- Firstly I need to find what is the sequence that splits it in halves. We know that sequences in ```HumanNOTPF00014``` are 20347, so we can split at 10170 sequence, more less at 1000. Let's see:"
   ]
  },
  {
   "cell_type": "code",
   "execution_count": 8,
   "metadata": {
    "pycharm": {
     "name": "#%%\n"
    }
   },
   "outputs": [
    {
     "name": "stdout",
     "output_type": "stream",
     "text": [
      ">sp|Q96HC4|PDLI5_HUMAN PDZ and LIM domain protein 5 OS=Homo sapiens OX=9606 GN=PDLIM5 PE=1 SV=5\n",
      "110690:>sp|Q7Z417|NUFP2_HUMAN Nuclear fragile X mental retardation-interacting protein 2 OS=Homo sapiens OX=9606 GN=NUFIP2 PE=1 SV=1\n"
     ]
    }
   ],
   "source": [
    "# Trova le prime 10000 sequenze che iniziano con \">\" | mostra solo l'ultima\n",
    "!grep \">\" ../databases/HumanNOTPF00014.fasta -m 10170|tail -1\n",
    "# Trova le prime 10001 seq che iniziano con \">\" e printa il numero della linea + output | mostra solo l'ultima\n",
    "!grep \">\" ../databases/HumanNOTPF00014.fasta -m 10171 -n|tail -1"
   ]
  },
  {
   "cell_type": "markdown",
   "metadata": {},
   "source": [
    "on line ```110690``` we can retrieve the 10171st sequence. We can split at line ```110690 - 1 = 110689```. We will store these two parts of our HumanNOTPF00014.fasta in two different files. The first 10170 sequences will be used as our *Training set* while the other half will be used as a *Testing set*"
   ]
  },
  {
   "cell_type": "code",
   "execution_count": 9,
   "metadata": {
    "pycharm": {
     "name": "#%%\n"
    }
   },
   "outputs": [],
   "source": [
    "# from the top until line 110689\n",
    "!head -n 110689 ../databases/HumanNOTPF00014.fasta  > ../databases/HumanNOTPF_training.fasta\n",
    "# from the bottom until it reaches line 110690\n",
    "!tail -n +110690 ../databases/HumanNOTPF00014.fasta > ../databases/HumanNOTPF_testing.fasta"
   ]
  },
  {
   "cell_type": "code",
   "execution_count": 10,
   "metadata": {
    "pycharm": {
     "name": "#%%\n"
    }
   },
   "outputs": [
    {
     "name": "stdout",
     "output_type": "stream",
     "text": [
      "  10170  111144 1083445\n",
      "  10177  111709 1019599\n"
     ]
    }
   ],
   "source": [
    "!grep '>' ../databases/HumanNOTPF_training.fasta -n | wc\n",
    "!grep '>' ../databases/HumanNOTPF_testing.fasta | wc"
   ]
  },
  {
   "cell_type": "markdown",
   "metadata": {
    "pycharm": {
     "name": "#%% md\n"
    }
   },
   "source": [
    "## Consistency test\n",
    "as a test we will perform blast of Human protein against itself. To have the results in tabular form we will use ```-outfmt 6```"
   ]
  },
  {
   "cell_type": "code",
   "execution_count": 7,
   "metadata": {
    "pycharm": {
     "name": "#%%\n"
    }
   },
   "outputs": [
    {
     "name": "stdout",
     "output_type": "stream",
     "text": [
      "    835   10020   73292\n"
     ]
    }
   ],
   "source": [
    "!blastp -query ../databases/HumanPF00014.fasta -db ../databases/HumanPF00014.fasta -outfmt 6 -out HumanPF00014.bl8\n",
    "!grep 'sp' HumanPF00014.bl8 | wc"
   ]
  },
  {
   "cell_type": "markdown",
   "metadata": {
    "pycharm": {
     "name": "#%% md\n"
    }
   },
   "source": [
    "The 11th column corresponds to the e-value. We want to sort the ```HumanPF00014.bl8``` by considering the e-value column, from the worst (highest) to the best (lowest)"
   ]
  },
  {
   "cell_type": "code",
   "execution_count": null,
   "metadata": {
    "pycharm": {
     "is_executing": true,
     "name": "#%%\n"
    }
   },
   "outputs": [
    {
     "name": "stdout",
     "output_type": "stream",
     "text": [
      "sp|Q9BQY6|WFDC6_HUMAN   sp|Q02388|CO7A1_HUMAN   48.000  25      11      2       12      35      2315    2338    10.0    16.9\n",
      "sp|Q8IUA0|WFDC8_HUMAN   sp|P12111|CO6A3_HUMAN   66.667  6       2       0       153     158     2395    2400    9.8     18.1\n",
      "sp|P12111|CO6A3_HUMAN   sp|Q8TEU8|WFKN2_HUMAN   28.788  66      47      0       2897    2962    266     331     9.8     21.9\n",
      "sp|P02760|AMBP_HUMAN    sp|Q02388|CO7A1_HUMAN   45.833  24      11      1       7       28      207     230     9.6     18.9\n",
      "sp|Q8IUA0|WFDC8_HUMAN   sp|Q9BQY6|WFDC6_HUMAN   66.667  9       3       0       174     182     53      61      9.5     17.7\n",
      "sp|P02760|AMBP_HUMAN    sp|Q9BQY6|WFDC6_HUMAN   34.783  23      15      0       93      115     91      113     9.4     18.1\n",
      "sp|O95428|PPN_HUMAN     sp|Q2UY09|COSA1_HUMAN   66.667  12      4       0       889     900     303     314     9.3     20.8\n",
      "sp|O95428|PPN_HUMAN     sp|O43291|SPIT2_HUMAN   33.333  27      15      1       151     174     60      86      8.9     20.4\n",
      "sp|Q9BQY6|WFDC6_HUMAN   sp|Q8TEU8|WFKN2_HUMAN   62.500  8       3       0       61      68      436     443     8.5     17.3\n",
      "sp|P12111|CO6A3_HUMAN   sp|Q2UY09|COSA1_HUMAN   22.785  79      49      4       1233    1303    48      122     8.3     22.3\n",
      "sp|P49223|SPIT3_HUMAN   sp|Q8TEU8|WFKN2_HUMAN   54.545  11      5       0       79      89      135     145     8.0     16.5\n",
      "sp|O43278|SPIT1_HUMAN   sp|P12111|CO6A3_HUMAN   32.727  55      30      4       :\u001b[K"
     ]
    }
   ],
   "source": [
    "#the first part is necessary in order to let the sort get the scientific notation\n",
    "!LC_NUMERIC=\"en_US.UTF-8\" sort -k11 -gr HumanPF00014.bl8 | head"
   ]
  },
  {
   "cell_type": "markdown",
   "metadata": {
    "pycharm": {
     "name": "#%% md\n"
    }
   },
   "source": [
    "If we want to retrieve all the proteins that were blasted with theirselves we can do:"
   ]
  },
  {
   "cell_type": "code",
   "execution_count": 21,
   "metadata": {
    "pycharm": {
     "name": "#%%\n"
    }
   },
   "outputs": [
    {
     "name": "stdout",
     "output_type": "stream",
     "text": [
      "sp|Q06481|APLP2_HUMAN   sp|Q06481|APLP2_HUMAN   100.000 763     0       0       1       763     1       763     0.0     1590\n",
      "sp|P05067|A4_HUMAN      sp|P05067|A4_HUMAN      100.000 770     0       0       1       770     1       770     0.0     1610\n",
      "sp|Q02388|CO7A1_HUMAN   sp|Q02388|CO7A1_HUMAN   100.000 2944    0       0       1       2944    1       2944    0.0     5494\n",
      "sp|P12111|CO6A3_HUMAN   sp|P12111|CO6A3_HUMAN   100.000 3177    0       0       1       3177    1       3177    0.0     6455\n",
      "sp|P02760|AMBP_HUMAN    sp|P02760|AMBP_HUMAN    100.000 352     0       0       1       352     1       352     0.0     734\n",
      "sp|O95925|EPPI_HUMAN    sp|O95925|EPPI_HUMAN    100.000 133     0       0       1       133     1       133     8.42e-100       274\n",
      "sp|P10646|TFPI1_HUMAN   sp|P10646|TFPI1_HUMAN   100.000 304     0       0       1       304     1       304     0.0     630\n",
      "sp|O43278|SPIT1_HUMAN   sp|O43278|SPIT1_HUMAN   100.000 529     0       0       1       529     1       529     0.0     1099\n",
      "sp|O43291|SPIT2_HUMAN   sp|O43291|SPIT2_HUMAN   100.000 252     0       0       1       252     1       252     0.0     521\n",
      "sp|P48307|TFPI2_HUMAN   sp|P48307|TFPI2_HUMAN   100.000 235     0       0       1       235     1       235     2.53e-180       486\n",
      "sp|Q8TEU8|WFKN2_HUMAN   sp|Q8TEU8|WFKN2_HUMAN   100.000 576     0       0       1       576     1       576     0.0     1199\n",
      "\u001b[K:\u001b[K09|COSA1_HUMAN   sp|Q2UY09|COSA1_HUMAN   100.000 1125    0       0       :\u001b[K\u0007"
     ]
    }
   ],
   "source": [
    "!awk '{if ($1==$2) print $0}' HumanPF00014.bl8 | less"
   ]
  },
  {
   "cell_type": "markdown",
   "metadata": {
    "pycharm": {
     "name": "#%% md\n"
    }
   },
   "source": [
    "We can check if they are 18 by doing:"
   ]
  },
  {
   "cell_type": "code",
   "execution_count": 20,
   "metadata": {
    "collapsed": false,
    "jupyter": {
     "outputs_hidden": false
    },
    "pycharm": {
     "name": "#%%\n"
    }
   },
   "outputs": [
    {
     "name": "stdout",
     "output_type": "stream",
     "text": [
      "18\n"
     ]
    }
   ],
   "source": [
    "!awk '{if ($1==$2) print $0}' HumanPF00014.bl8 | wc -l"
   ]
  },
  {
   "cell_type": "markdown",
   "metadata": {
    "pycharm": {
     "name": "#%% md\n"
    }
   },
   "source": [
    "## Training\n",
    "### Run on negatives\n",
    "We want to get the negatives, let's blast it."
   ]
  },
  {
   "cell_type": "code",
   "execution_count": 17,
   "metadata": {
    "collapsed": false,
    "jupyter": {
     "outputs_hidden": false
    },
    "pycharm": {
     "name": "#%%\n"
    }
   },
   "outputs": [],
   "source": [
    "!blastp -query ../databases/HumanNOTPF_training.fasta -db ../databases/HumanPF00014.fasta -outfmt 6 -out HumanNOTPF00014_train.bl8"
   ]
  },
  {
   "cell_type": "code",
   "execution_count": 19,
   "metadata": {
    "collapsed": false,
    "jupyter": {
     "outputs_hidden": false
    },
    "pycharm": {
     "name": "#%%\n"
    }
   },
   "outputs": [
    {
     "name": "stdout",
     "output_type": "stream",
     "text": [
      "58954 HumanNOTPF00014_train.bl8\n"
     ]
    }
   ],
   "source": [
    "!wc -l HumanNOTPF00014_train.bl8"
   ]
  },
  {
   "cell_type": "markdown",
   "metadata": {
    "pycharm": {
     "name": "#%% md\n"
    }
   },
   "source": [
    "At this point I want to know the best hits between HumanNOTPF and HumanPF. So we sort:"
   ]
  },
  {
   "cell_type": "code",
   "execution_count": 5,
   "metadata": {
    "collapsed": false,
    "jupyter": {
     "outputs_hidden": false
    },
    "pycharm": {
     "name": "#%%\n"
    }
   },
   "outputs": [
    {
     "name": "stdout",
     "output_type": "stream",
     "text": [
      "sp|A6NMZ7|CO6A6_HUMAN\tsp|P12111|CO6A3_HUMAN\t32.023\t2239\t1310\t43\t27\t2138\t639\t2792\t0.0\t1013\n",
      "sp|A8TX70|CO6A5_HUMAN\tsp|P12111|CO6A3_HUMAN\t31.051\t2235\t1320\t51\t30\t2130\t639\t2786\t0.0\t927\n",
      "sp|A6NMZ7|CO6A6_HUMAN\tsp|P12111|CO6A3_HUMAN\t28.559\t1194\t795\t25\t26\t1181\t38\t1211\t5.81e-140\t480\n",
      "sp|P51693|APLP1_HUMAN\tsp|Q06481|APLP2_HUMAN\t35.109\t732\t350\t19\t37\t648\t34\t760\t3.59e-126\t383\n",
      "sp|A8TX70|CO6A5_HUMAN\tsp|P12111|CO6A3_HUMAN\t27.288\t1180\t802\t28\t29\t1172\t38\t1197\t2.94e-121\t421\n",
      "sp|A6NMZ7|CO6A6_HUMAN\tsp|P12111|CO6A3_HUMAN\t28.182\t1100\t704\t31\t226\t1272\t36\t1102\t2.43e-110\t385\n",
      "sp|Q9UKP5|ATS6_HUMAN\tsp|O95428|PPN_HUMAN\t40.202\t495\t274\t11\t561\t1045\t29\t511\t2.62e-108\t359\n",
      "sp|Q8TE60|ATS18_HUMAN\tsp|O95428|PPN_HUMAN\t36.842\t532\t306\t11\t592\t1115\t29\t538\t1.04e-102\t345\n",
      "sp|Q9H324|ATS10_HUMAN\tsp|O95428|PPN_HUMAN\t37.996\t529\t306\t12\t550\t1064\t29\t549\t6.93e-99\t332\n",
      "sp|Q8TE57|ATS16_HUMAN\tsp|O95428|PPN_HUMAN\t36.684\t567\t320\t16\t589\t1133\t29\t578\t5.59e-96\t326\n"
     ]
    }
   ],
   "source": [
    "!LC_NUMERIC=\"en_US.UTF-8\" sort -k11 -g HumanNOTPF00014_train.bl8 | head"
   ]
  },
  {
   "cell_type": "markdown",
   "metadata": {
    "pycharm": {
     "name": "#%% md\n"
    }
   },
   "source": [
    "The first two lines expresses all those sequences that have e-value 0 and we can assume that there are two protein sequences, one that present PF00014 domain and another one which does not, and that means that these sequences have similar domains.\n",
    "```sp|A6NMZ7|CO6A6_HUMAN\tsp|P12111|CO6A3_HUMAN\t32.023\t2239\t1310\t43\t27\t2138\t639\t2792\t0.0\t1013```\n",
    "\n",
    "```sp|A8TX70|CO6A5_HUMAN\tsp|P12111|CO6A3_HUMAN\t31.051\t2235\t1320\t51\t30\t2130\t639\t2786\t0.0\t927```\n",
    "### Run on positives\n",
    "We need to blast on the testing set. Testing set contains ```NOTHumanBPTI``` with ```HumanPF.fasta```."
   ]
  },
  {
   "cell_type": "code",
   "execution_count": 6,
   "metadata": {
    "collapsed": false,
    "jupyter": {
     "outputs_hidden": false
    },
    "pycharm": {
     "name": "#%% code\n"
    }
   },
   "outputs": [],
   "source": [
    "!blastp -query ../databases/NOTHumanPF00014.fasta -db ../databases/HumanPF00014.fasta -outfmt 6 -out NOTHumanPF00014.bl8 -evalue 1000"
   ]
  },
  {
   "cell_type": "code",
   "execution_count": 3,
   "metadata": {
    "collapsed": false,
    "jupyter": {
     "outputs_hidden": false
    },
    "pycharm": {
     "name": "#%%\n"
    }
   },
   "outputs": [
    {
     "name": "stdout",
     "output_type": "stream",
     "text": [
      "sp|P00978|AMBP_BOVIN\tsp|P02760|AMBP_HUMAN\t77.273\t352\t80\t0\t1\t352\t1\t352\t0.0\t561\n",
      "sp|P04366|AMBP_PIG\tsp|P02760|AMBP_HUMAN\t80.655\t336\t65\t0\t2\t337\t17\t352\t0.0\t581\n",
      "sp|P08592|A4_RAT\tsp|P05067|A4_HUMAN\t96.883\t770\t24\t0\t1\t770\t1\t770\t0.0\t1557\n",
      "sp|P08592|A4_RAT\tsp|Q06481|APLP2_HUMAN\t49.873\t790\t320\t17\t3\t769\t26\t762\t0.0\t716\n",
      "sp|P0C5J5|WFKN1_RAT\tsp|Q8TEU8|WFKN2_HUMAN\t56.691\t538\t209\t8\t31\t550\t41\t572\t0.0\t607\n",
      "sp|P0C5J5|WFKN1_RAT\tsp|Q96NZ8|WFKN1_HUMAN\t87.992\t533\t63\t1\t20\t552\t17\t548\t0.0\t939\n",
      "sp|P12023|A4_MOUSE\tsp|P05067|A4_HUMAN\t96.623\t770\t26\t0\t1\t770\t1\t770\t0.0\t1551\n",
      "sp|P12023|A4_MOUSE\tsp|Q06481|APLP2_HUMAN\t50.253\t790\t317\t17\t3\t769\t26\t762\t0.0\t721\n",
      "sp|P15943|APLP2_RAT\tsp|Q06481|APLP2_HUMAN\t92.318\t742\t51\t2\t26\t765\t26\t763\t0.0\t1340\n",
      "sp|P15989|CO6A3_CHICK\tsp|P12111|CO6A3_HUMAN\t65.153\t2884\t977\t11\t1\t2873\t1\t2867\t0.0\t3726\n"
     ]
    }
   ],
   "source": [
    "!LC_NUMERIC=C sort -g -k11 NOTHumanPF00014.bl8 | head"
   ]
  },
  {
   "cell_type": "markdown",
   "metadata": {},
   "source": [
    "Results are in two files, I can generate a HMMlogo by going on https://skylign.org/"
   ]
  },
  {
   "cell_type": "markdown",
   "metadata": {},
   "source": [
    "$Accuracy = \\frac{TP+TN}{everything}$\n",
    " \n",
    "\n",
    "$MCC =\\frac{TP∗TF+FP∗FN}{(TP+FP)∗(TP∗FN)∗(TN+FP)∗(TN+FN)}$"
   ]
  }
 ],
 "metadata": {
  "kernelspec": {
   "display_name": "Python 3",
   "language": "python",
   "name": "python3"
  },
  "language_info": {
   "codemirror_mode": {
    "name": "ipython",
    "version": 3
   },
   "file_extension": ".py",
   "mimetype": "text/x-python",
   "name": "python",
   "nbconvert_exporter": "python",
   "pygments_lexer": "ipython3",
   "version": "3.7.6"
  }
 },
 "nbformat": 4,
 "nbformat_minor": 4
}
