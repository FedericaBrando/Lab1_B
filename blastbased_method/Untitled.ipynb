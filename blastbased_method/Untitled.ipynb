{
 "cells": [
  {
   "cell_type": "code",
   "execution_count": 1,
   "metadata": {},
   "outputs": [
    {
     "name": "stderr",
     "output_type": "stream",
     "text": [
      "Looking for 2 GO term(s): /home/fecke/.local/share/jupyter/runtime/kernel-876dec8b-5a00-4614-8055-0737ff7aca16.json -f\n",
      "Parsing...\n"
     ]
    },
    {
     "ename": "NameError",
     "evalue": "name 'SwissProt' is not defined",
     "output_type": "error",
     "traceback": [
      "\u001b[0;31m---------------------------------------------------------------------------\u001b[0m",
      "\u001b[0;31mNameError\u001b[0m                                 Traceback (most recent call last)",
      "\u001b[0;32m<ipython-input-1-7f9eb01c57a3>\u001b[0m in \u001b[0;36m<module>\u001b[0;34m\u001b[0m\n\u001b[1;32m      8\u001b[0m \u001b[0mk\u001b[0m \u001b[0;34m=\u001b[0m \u001b[0;36m0\u001b[0m\u001b[0;34m\u001b[0m\u001b[0;34m\u001b[0m\u001b[0m\n\u001b[1;32m      9\u001b[0m \u001b[0msys\u001b[0m\u001b[0;34m.\u001b[0m\u001b[0mstderr\u001b[0m\u001b[0;34m.\u001b[0m\u001b[0mwrite\u001b[0m\u001b[0;34m(\u001b[0m\u001b[0;34m\"Parsing...\\n\"\u001b[0m\u001b[0;34m)\u001b[0m\u001b[0;34m\u001b[0m\u001b[0;34m\u001b[0m\u001b[0m\n\u001b[0;32m---> 10\u001b[0;31m \u001b[0;32mfor\u001b[0m \u001b[0mi\u001b[0m\u001b[0;34m,\u001b[0m\u001b[0mr\u001b[0m \u001b[0;32min\u001b[0m \u001b[0menumerate\u001b[0m\u001b[0;34m(\u001b[0m\u001b[0mSwissProt\u001b[0m\u001b[0;34m.\u001b[0m\u001b[0mparse\u001b[0m\u001b[0;34m(\u001b[0m\u001b[0msys\u001b[0m\u001b[0;34m.\u001b[0m\u001b[0mstdin\u001b[0m\u001b[0;34m)\u001b[0m\u001b[0;34m)\u001b[0m\u001b[0;34m:\u001b[0m\u001b[0;34m\u001b[0m\u001b[0;34m\u001b[0m\u001b[0m\n\u001b[0m\u001b[1;32m     11\u001b[0m     \u001b[0msys\u001b[0m\u001b[0;34m.\u001b[0m\u001b[0mstderr\u001b[0m\u001b[0;34m.\u001b[0m\u001b[0mwrite\u001b[0m\u001b[0;34m(\u001b[0m\u001b[0;34m\" %9i\\r\"\u001b[0m\u001b[0;34m%\u001b[0m\u001b[0;34m(\u001b[0m\u001b[0mi\u001b[0m\u001b[0;34m+\u001b[0m\u001b[0;36m1\u001b[0m\u001b[0;34m,\u001b[0m\u001b[0;34m)\u001b[0m\u001b[0;34m)\u001b[0m\u001b[0;34m\u001b[0m\u001b[0;34m\u001b[0m\u001b[0m\n\u001b[1;32m     12\u001b[0m     \u001b[0;31m#parse cross_references\u001b[0m\u001b[0;34m\u001b[0m\u001b[0;34m\u001b[0m\u001b[0;34m\u001b[0m\u001b[0m\n",
      "\u001b[0;31mNameError\u001b[0m: name 'SwissProt' is not defined"
     ]
    }
   ],
   "source": [
    "\"\"\"Fetch uniprot entries for given go terms\"\"\"\n",
    "import sys\n",
    "from Bio.PDB.PDBParser import PDBParser\n",
    "#load query\n",
    "#query = set(sys.argv[1:])\n",
    "\n",
    "#query = set()\n",
    "\n",
    "sys.stderr.write(\"Looking for %s querie(s): %s\\n\" % (len(query),\" \".join(query)))\n",
    "#parse swisprot dump\n",
    "k = 0\n",
    "sys.stderr.write(\"Parsing...\\n\")\n",
    "for i,r in enumerate(SwissProt.parse(sys.stdin)):  \n",
    "    sys.stderr.write(\" %9i\\r\"%(i+1,))\n",
    "    #parse cross_references\n",
    "    for ex_db_data in r.sequence:\n",
    "        #print ex_db_data\n",
    "        extdb,extid = ex_db_data[:2]\n",
    "        if extdb==\"GO\" and extid in gos:\n",
    "          k += 1\n",
    "          sys.stdout.write( \">%s %s\\n%s\\n\" % (r.accessions[0], extid, r.sequence) )"
   ]
  },
  {
   "cell_type": "markdown",
   "metadata": {},
   "source": [
    "cross validation : you have a set of reference and you divide this set in a given number of subset. In principle you should divide it, in at least 3 subset. There are different way to decide how you divide your set according to the usage. We will do it randomly. This procedure consists in:\n",
    "-divide\n",
    "-take n-1 of the subset and ..\n",
    "\n",
    "we need to remove from our benchmark set those sequences used to generate our model.\n",
    "To do so we can use blast. We can blast our sequences from the pdb retrieved earlier, to the oneretrieved from uniprot (all_PF00014.fasta).\n",
    "\n",
    "After the blasting you have to sort by the seq Id. column, when finding 100% seq.identity we have a problem.\n",
    "\n",
    "blastp -query all_PF00014.fasta -db  -outfmt 6 -out ../blastbase_search/allbpti.bl6\n",
    "\n"
   ]
  }
 ],
 "metadata": {
  "kernelspec": {
   "display_name": "Python 3",
   "language": "python",
   "name": "python3"
  },
  "language_info": {
   "codemirror_mode": {
    "name": "ipython",
    "version": 3
   },
   "file_extension": ".py",
   "mimetype": "text/x-python",
   "name": "python",
   "nbconvert_exporter": "python",
   "pygments_lexer": "ipython3",
   "version": "3.7.6"
  }
 },
 "nbformat": 4,
 "nbformat_minor": 4
}
